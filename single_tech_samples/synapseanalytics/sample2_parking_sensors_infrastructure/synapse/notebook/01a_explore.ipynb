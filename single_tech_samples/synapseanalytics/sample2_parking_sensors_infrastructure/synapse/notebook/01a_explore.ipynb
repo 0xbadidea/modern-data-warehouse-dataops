{
  "cells": [
    {
      "cell_type": "code",
      "execution_count": 1,
      "metadata": {
        "collapsed": false
      },
      "outputs": [],
      "source": [
        "import os\n",
        "import datetime\n",
        "\n",
        "# For testing\n",
        "base_path = 'abfss://datalake@<YOUR_STORAGE_ACCOUNT>.<YOUR_STORAGE_ACCOUNT_ENDPOINT>/data/lnd/2021_XX_XX_X1_XX_XX'\n",
        "parkingbay_filepath = os.path.join(base_path, \"MelbParkingBayData.json\")\n",
        "sensors_filepath = os.path.join(base_path, \"MelbParkingSensorData.json\")\n",
        "\n",
        "\n",
        "parkingbay_sdf = spark.read\\\n",
        "  .option(\"multiLine\", True)\\\n",
        "  .json(parkingbay_filepath)\n",
        "sensordata_sdf = spark.read\\\n",
        "  .option(\"multiLine\", True)\\\n",
        "  .json(sensors_filepath)\n",
        "\n",
        "display(parkingbay_sdf)\n",
        "display(sensordata_sdf)\n",
        "display(sensordata_sdf)\n"
      ]
    }
  ],
  "metadata": {
    "kernelspec": {
      "display_name": "Python 3.11.0 64-bit",
      "language": "python",
      "name": "python3"
    },
    "language_info": {
      "name": "python",
      "version": "3.11.0"
    },
    "save_output": true,
    "synapse_widget": {
      "state": {},
      "version": "0.1"
    },
    "vscode": {
      "interpreter": {
        "hash": "949777d72b0d2535278d3dc13498b2535136f6dfe0678499012e853ee9abcab1"
      }
    }
  },
  "nbformat": 4,
  "nbformat_minor": 2
}
