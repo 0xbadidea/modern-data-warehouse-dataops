{
  "nbformat": 4,
  "nbformat_minor": 2,
  "metadata": {
    "kernelspec": {
      "name": "synapse_pyspark",
      "display_name": "Synapse PySpark"
    },
    "language_info": {
      "name": "python"
    },
    "description": null,
    "save_output": true,
    "synapse_widget": {
      "version": "0.1",
      "state": {}
    }
  },
  "cells": [
    {
      "cell_type": "code",
      "execution_count": 1,
      "outputs": [
        {
          "output_type": "display_data",
          "data": {
            "application/vnd.livy.statement-meta+json": {
              "spark_pool": "synspdevposei",
              "session_id": "33",
              "statement_id": 1,
              "state": "finished",
              "livy_statement_state": "available",
              "queued_time": "2022-12-09T17:00:09.3129546Z",
              "session_start_time": "2022-12-09T17:00:09.3393877Z",
              "execution_start_time": "2022-12-09T17:02:25.6598761Z",
              "execution_finish_time": "2022-12-09T17:02:25.83498Z",
              "spark_jobs": null
            },
            "text/plain": "StatementMeta(synspdevposei, 33, 1, Finished, Available)"
          },
          "metadata": {}
        }
      ],
      "metadata": {
        "jupyter": {
          "source_hidden": false,
          "outputs_hidden": false
        },
        "nteract": {
          "transient": {
            "deleting": false
          }
        },
        "tags": [
          "parameters"
        ]
      },
      "source": [
        "# Get pipeline run id\r\n",
        "pipeline_run_id = ''"
      ]
    },
    {
      "cell_type": "code",
      "execution_count": 5,
      "outputs": [
        {
          "output_type": "display_data",
          "data": {
            "application/vnd.livy.statement-meta+json": {
              "spark_pool": "synspdevposei",
              "session_id": "33",
              "statement_id": 5,
              "state": "finished",
              "livy_statement_state": "available",
              "queued_time": "2022-12-09T17:03:10.7702238Z",
              "session_start_time": null,
              "execution_start_time": "2022-12-09T17:03:10.8836525Z",
              "execution_finish_time": "2022-12-09T17:03:12.8221745Z",
              "spark_jobs": null
            },
            "text/plain": "StatementMeta(synspdevposei, 33, 5, Finished, Available)"
          },
          "metadata": {}
        },
        {
          "output_type": "stream",
          "name": "stdout",
          "text": [
            "Primary storage account path: abfss://saveddata@mdwdopsstdevposei.dfs.core.usgovcloudapi.net/\nBase path is: abfss://saveddata@mdwdopsstdevposei.dfs.core.usgovcloudapi.net/0078a5a8-c9f8-4a69-88f3-70614def99e3.parquet\nroot\n |-- dim_date_id: string (nullable = true)\n |-- date: string (nullable = true)\n |-- day: string (nullable = true)\n |-- day_suffix: string (nullable = true)\n |-- week_day: string (nullable = true)\n |-- week_day_name: string (nullable = true)\n |-- DOW_in_month: string (nullable = true)\n |-- day_of_year: string (nullable = true)\n |-- week_of_month: string (nullable = true)\n |-- week_of_year: string (nullable = true)\n |-- ISO_week_of_year: string (nullable = true)\n |-- month: string (nullable = true)\n |-- month_name: string (nullable = true)\n |-- quarter: string (nullable = true)\n |-- quarter_name: string (nullable = true)\n |-- year: string (nullable = true)\n |-- MMYYYY: string (nullable = true)\n |-- month_year: string (nullable = true)\n |-- first_day_of_month: string (nullable = true)\n |-- last_day_of_month: string (nullable = true)\n |-- first_day_of_quarter: string (nullable = true)\n |-- last_day_of_quarter: string (nullable = true)\n |-- first_day_of_year: string (nullable = true)\n |-- last_day_of_year: string (nullable = true)\n |-- first_day_of_next_month: string (nullable = true)\n |-- first_day_of_next_year: string (nullable = true)\n\n+-----------+--------------------+---+----------+--------+-------------+------------+-----------+-------------+------------+----------------+-----+----------+-------+------------+----+------+----------+--------------------+--------------------+--------------------+--------------------+--------------------+--------------------+-----------------------+----------------------+\n|dim_date_id|                date|day|day_suffix|week_day|week_day_name|DOW_in_month|day_of_year|week_of_month|week_of_year|ISO_week_of_year|month|month_name|quarter|quarter_name|year|MMYYYY|month_year|  first_day_of_month|   last_day_of_month|first_day_of_quarter| last_day_of_quarter|   first_day_of_year|    last_day_of_year|first_day_of_next_month|first_day_of_next_year|\n+-----------+--------------------+---+----------+--------+-------------+------------+-----------+-------------+------------+----------------+-----+----------+-------+------------+----+------+----------+--------------------+--------------------+--------------------+--------------------+--------------------+--------------------+-----------------------+----------------------+\n|   20130908|2013-09-08 00:00:...|  8|        th|       1|       Sunday|           2|        251|            2|          37|              36|    9| September|      3|       Third|2013|092013|  Sep 2013|2013-09-01 00:00:...|2013-09-30 00:00:...|2013-07-01 00:00:...|2013-09-30 00:00:...|2013-01-01 00:00:...|2013-12-31 00:00:...|   2013-10-01 00:00:...|  2014-01-01 00:00:...|\n|   20130912|2013-09-12 00:00:...| 12|        th|       5|     Thursday|           2|        255|            2|          37|              37|    9| September|      3|       Third|2013|092013|  Sep 2013|2013-09-01 00:00:...|2013-09-30 00:00:...|2013-07-01 00:00:...|2013-09-30 00:00:...|2013-01-01 00:00:...|2013-12-31 00:00:...|   2013-10-01 00:00:...|  2014-01-01 00:00:...|\n|   20130919|2013-09-19 00:00:...| 19|        th|       5|     Thursday|           3|        262|            3|          38|              38|    9| September|      3|       Third|2013|092013|  Sep 2013|2013-09-01 00:00:...|2013-09-30 00:00:...|2013-07-01 00:00:...|2013-09-30 00:00:...|2013-01-01 00:00:...|2013-12-31 00:00:...|   2013-10-01 00:00:...|  2014-01-01 00:00:...|\n|   20130915|2013-09-15 00:00:...| 15|        th|       1|       Sunday|           3|        258|            3|          38|              37|    9| September|      3|       Third|2013|092013|  Sep 2013|2013-09-01 00:00:...|2013-09-30 00:00:...|2013-07-01 00:00:...|2013-09-30 00:00:...|2013-01-01 00:00:...|2013-12-31 00:00:...|   2013-10-01 00:00:...|  2014-01-01 00:00:...|\n|   20130920|2013-09-20 00:00:...| 20|        th|       6|       Friday|           3|        263|            3|          38|              38|    9| September|      3|       Third|2013|092013|  Sep 2013|2013-09-01 00:00:...|2013-09-30 00:00:...|2013-07-01 00:00:...|2013-09-30 00:00:...|2013-01-01 00:00:...|2013-12-31 00:00:...|   2013-10-01 00:00:...|  2014-01-01 00:00:...|\n|   20130918|2013-09-18 00:00:...| 18|        th|       4|    Wednesday|           3|        261|            3|          38|              38|    9| September|      3|       Third|2013|092013|  Sep 2013|2013-09-01 00:00:...|2013-09-30 00:00:...|2013-07-01 00:00:...|2013-09-30 00:00:...|2013-01-01 00:00:...|2013-12-31 00:00:...|   2013-10-01 00:00:...|  2014-01-01 00:00:...|\n|   20130921|2013-09-21 00:00:...| 21|        st|       7|     Saturday|           3|        264|            3|          38|              38|    9| September|      3|       Third|2013|092013|  Sep 2013|2013-09-01 00:00:...|2013-09-30 00:00:...|2013-07-01 00:00:...|2013-09-30 00:00:...|2013-01-01 00:00:...|2013-12-31 00:00:...|   2013-10-01 00:00:...|  2014-01-01 00:00:...|\n|   20130917|2013-09-17 00:00:...| 17|        th|       3|      Tuesday|           3|        260|            3|          38|              38|    9| September|      3|       Third|2013|092013|  Sep 2013|2013-09-01 00:00:...|2013-09-30 00:00:...|2013-07-01 00:00:...|2013-09-30 00:00:...|2013-01-01 00:00:...|2013-12-31 00:00:...|   2013-10-01 00:00:...|  2014-01-01 00:00:...|\n|   20130916|2013-09-16 00:00:...| 16|        th|       2|       Monday|           3|        259|            3|          38|              38|    9| September|      3|       Third|2013|092013|  Sep 2013|2013-09-01 00:00:...|2013-09-30 00:00:...|2013-07-01 00:00:...|2013-09-30 00:00:...|2013-01-01 00:00:...|2013-12-31 00:00:...|   2013-10-01 00:00:...|  2014-01-01 00:00:...|\n|   20130923|2013-09-23 00:00:...| 23|        rd|       2|       Monday|           4|        266|            4|          39|              39|    9| September|      3|       Third|2013|092013|  Sep 2013|2013-09-01 00:00:...|2013-09-30 00:00:...|2013-07-01 00:00:...|2013-09-30 00:00:...|2013-01-01 00:00:...|2013-12-31 00:00:...|   2013-10-01 00:00:...|  2014-01-01 00:00:...|\n|   20130924|2013-09-24 00:00:...| 24|        th|       3|      Tuesday|           4|        267|            4|          39|              39|    9| September|      3|       Third|2013|092013|  Sep 2013|2013-09-01 00:00:...|2013-09-30 00:00:...|2013-07-01 00:00:...|2013-09-30 00:00:...|2013-01-01 00:00:...|2013-12-31 00:00:...|   2013-10-01 00:00:...|  2014-01-01 00:00:...|\n|   20130928|2013-09-28 00:00:...| 28|        th|       7|     Saturday|           4|        271|            4|          39|              39|    9| September|      3|       Third|2013|092013|  Sep 2013|2013-09-01 00:00:...|2013-09-30 00:00:...|2013-07-01 00:00:...|2013-09-30 00:00:...|2013-01-01 00:00:...|2013-12-31 00:00:...|   2013-10-01 00:00:...|  2014-01-01 00:00:...|\n|   20130925|2013-09-25 00:00:...| 25|        th|       4|    Wednesday|           4|        268|            4|          39|              39|    9| September|      3|       Third|2013|092013|  Sep 2013|2013-09-01 00:00:...|2013-09-30 00:00:...|2013-07-01 00:00:...|2013-09-30 00:00:...|2013-01-01 00:00:...|2013-12-31 00:00:...|   2013-10-01 00:00:...|  2014-01-01 00:00:...|\n|   20130927|2013-09-27 00:00:...| 27|        th|       6|       Friday|           4|        270|            4|          39|              39|    9| September|      3|       Third|2013|092013|  Sep 2013|2013-09-01 00:00:...|2013-09-30 00:00:...|2013-07-01 00:00:...|2013-09-30 00:00:...|2013-01-01 00:00:...|2013-12-31 00:00:...|   2013-10-01 00:00:...|  2014-01-01 00:00:...|\n|   20130922|2013-09-22 00:00:...| 22|        nd|       1|       Sunday|           4|        265|            4|          39|              38|    9| September|      3|       Third|2013|092013|  Sep 2013|2013-09-01 00:00:...|2013-09-30 00:00:...|2013-07-01 00:00:...|2013-09-30 00:00:...|2013-01-01 00:00:...|2013-12-31 00:00:...|   2013-10-01 00:00:...|  2014-01-01 00:00:...|\n|   20130926|2013-09-26 00:00:...| 26|        th|       5|     Thursday|           4|        269|            4|          39|              39|    9| September|      3|       Third|2013|092013|  Sep 2013|2013-09-01 00:00:...|2013-09-30 00:00:...|2013-07-01 00:00:...|2013-09-30 00:00:...|2013-01-01 00:00:...|2013-12-31 00:00:...|   2013-10-01 00:00:...|  2014-01-01 00:00:...|\n|   20130929|2013-09-29 00:00:...| 29|        th|       1|       Sunday|           5|        272|            5|          40|              39|    9| September|      3|       Third|2013|092013|  Sep 2013|2013-09-01 00:00:...|2013-09-30 00:00:...|2013-07-01 00:00:...|2013-09-30 00:00:...|2013-01-01 00:00:...|2013-12-31 00:00:...|   2013-10-01 00:00:...|  2014-01-01 00:00:...|\n|   20130930|2013-09-30 00:00:...| 30|        th|       2|       Monday|           5|        273|            5|          40|              40|    9| September|      3|       Third|2013|092013|  Sep 2013|2013-09-01 00:00:...|2013-09-30 00:00:...|2013-07-01 00:00:...|2013-09-30 00:00:...|2013-01-01 00:00:...|2013-12-31 00:00:...|   2013-10-01 00:00:...|  2014-01-01 00:00:...|\n|   20131001|2013-10-01 00:00:...|  1|        st|       3|      Tuesday|           1|        274|            1|          40|              40|   10|   October|      4|      Fourth|2013|102013|  Oct 2013|2013-10-01 00:00:...|2013-10-31 00:00:...|2013-10-01 00:00:...|2013-12-31 00:00:...|2013-01-01 00:00:...|2013-12-31 00:00:...|   2013-11-01 00:00:...|  2014-01-01 00:00:...|\n|   20131005|2013-10-05 00:00:...|  5|        th|       7|     Saturday|           1|        278|            1|          40|              40|   10|   October|      4|      Fourth|2013|102013|  Oct 2013|2013-10-01 00:00:...|2013-10-31 00:00:...|2013-10-01 00:00:...|2013-12-31 00:00:...|2013-01-01 00:00:...|2013-12-31 00:00:...|   2013-11-01 00:00:...|  2014-01-01 00:00:...|\n+-----------+--------------------+---+----------+--------+-------------+------------+-----------+-------------+------------+----------------+-----+----------+-------+------------+----+------+----------+--------------------+--------------------+--------------------+--------------------+--------------------+--------------------+-----------------------+----------------------+\nonly showing top 20 rows\n\n"
          ]
        }
      ],
      "metadata": {
        "jupyter": {
          "outputs_hidden": false
        }
      },
      "source": [
        "import os\n",
        "import datetime\n",
        "\n",
        "# Get keyvault linked service name\n",
        "keyvaultlsname = 'Ls_KeyVault_01'\n",
        "\n",
        "token_library = sc._jvm.com.microsoft.azure.synapse.tokenlibrary.TokenLibrary\n",
        "\n",
        "# Primary storage info \n",
        "storage_account_url = token_library.getSecretWithLS(keyvaultlsname, \"datalakeurl\").replace(\"https://\", '')\n",
        "container_name = 'saveddata' # fill in your container name \n",
        "relative_path = '' # fill in your relative folder path \n",
        "file_name = f\"{pipeline_run_id}.parquet\"\n",
        "adls_path = 'abfss://%s@%s/%s' % (container_name, storage_account_url, relative_path) \n",
        "print('Primary storage account path: ' + adls_path) \n",
        "loaded_on = datetime.datetime.now()\n",
        "base_path = os.path.join(adls_path, file_name)\n",
        "print('Base path is: ' + base_path)\n",
        "df = spark.read.parquet(base_path)\n",
        "\n",
        "df.printSchema()\n",
        "df.show()"
      ]
    },
    {
      "cell_type": "code",
      "execution_count": 7,
      "outputs": [
        {
          "output_type": "display_data",
          "data": {
            "application/vnd.livy.statement-meta+json": {
              "spark_pool": "synspdevposei",
              "session_id": "33",
              "statement_id": 7,
              "state": "finished",
              "livy_statement_state": "available",
              "queued_time": "2022-12-09T17:04:11.9943144Z",
              "session_start_time": null,
              "execution_start_time": "2022-12-09T17:04:12.118998Z",
              "execution_finish_time": "2022-12-09T17:04:14.0628758Z",
              "spark_jobs": null
            },
            "text/plain": "StatementMeta(synspdevposei, 33, 7, Finished, Available)"
          },
          "metadata": {}
        },
        {
          "output_type": "stream",
          "name": "stdout",
          "text": [
            "+--------------------+--------------------+--------------------+-----+\n|                date|            filename|     pipeline_run_id|count|\n+--------------------+--------------------+--------------------+-----+\n|2022-12-09 17:03:...|0078a5a8-c9f8-4a6...|0078a5a8-c9f8-4a6...|   99|\n+--------------------+--------------------+--------------------+-----+\n\n"
          ]
        }
      ],
      "metadata": {
        "jupyter": {
          "source_hidden": false,
          "outputs_hidden": false
        },
        "nteract": {
          "transient": {
            "deleting": false
          }
        }
      },
      "source": [
        "count = df.count()\n",
        "data = [[loaded_on, file_name, pipeline_run_id, df.count()]]\n",
        " \n",
        "# specify column names\n",
        "columns = ['date', 'filename', 'pipeline_run_id', 'count']\n",
        " \n",
        "# creating a dataframe from the lists of data\n",
        "dataframe = spark.createDataFrame(data, columns)\n",
        "\n",
        "dataframe.show()"
      ]
    },
    {
      "cell_type": "code",
      "execution_count": 8,
      "outputs": [
        {
          "output_type": "display_data",
          "data": {
            "application/vnd.livy.statement-meta+json": {
              "spark_pool": "synspdevposei",
              "session_id": "33",
              "statement_id": 8,
              "state": "finished",
              "livy_statement_state": "available",
              "queued_time": "2022-12-09T17:04:23.0379436Z",
              "session_start_time": null,
              "execution_start_time": "2022-12-09T17:04:23.1740963Z",
              "execution_finish_time": "2022-12-09T17:04:25.0975957Z",
              "spark_jobs": null
            },
            "text/plain": "StatementMeta(synspdevposei, 33, 8, Finished, Available)"
          },
          "metadata": {}
        }
      ],
      "metadata": {
        "jupyter": {
          "source_hidden": false,
          "outputs_hidden": false
        },
        "nteract": {
          "transient": {
            "deleting": false
          }
        }
      },
      "source": [
        "dataframe.write.mode('append').parquet(os.path.join(adls_path, 'interim.count'))"
      ]
    }
  ]
}