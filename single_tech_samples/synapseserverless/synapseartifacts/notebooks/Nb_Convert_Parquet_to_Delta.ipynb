{
  "cells": [
    {
      "cell_type": "markdown",
      "metadata": {
        "nteract": {
          "transient": {
            "deleting": false
          }
        }
      },
      "source": [
        "# Get dynamic pipeline parameters"
      ]
    },
    {
      "cell_type": "code",
      "execution_count": 58,
      "metadata": {
        "jupyter": {
          "outputs_hidden": false,
          "source_hidden": false
        },
        "nteract": {
          "transient": {
            "deleting": false
          }
        },
        "tags": [
          "parameters"
        ]
      },
      "outputs": [
        {
          "data": {
            "application/vnd.livy.statement-meta+json": {
              "execution_finish_time": "2022-09-26T12:05:45.1548983Z",
              "execution_start_time": "2022-09-26T12:05:44.6243626Z",
              "livy_statement_state": "available",
              "queued_time": "2022-09-26T12:05:44.1923478Z",
              "session_id": "1",
              "session_start_time": null,
              "spark_jobs": null,
              "spark_pool": "SparkPool",
              "state": "finished",
              "statement_id": 38
            },
            "text/plain": [
              "StatementMeta(SparkPool, 1, 38, Finished, Available)"
            ]
          },
          "metadata": {},
          "output_type": "display_data"
        }
      ],
      "source": [
        "# Get folder where the REST downloads were placed\n",
        "dynamicyear = \"2022\"\n",
        "dynamicmonth = \"09\"\n",
        "dynamicday = \"26\"\n",
        "dynamichour = \"12\"\n",
        "\n",
        "# Get pipeline name\n",
        "pipelinename = 'P_NYCTaxi_2_Main'\n",
        "\n",
        "# Get pipeline run id\n",
        "pipelineid = 'df2ddb82-9004-449f-84da-ae9484b446f4'"
      ]
    },
    {
      "cell_type": "markdown",
      "metadata": {
        "nteract": {
          "transient": {
            "deleting": false
          }
        }
      },
      "source": [
        "# Transform an ADLS Gen2 location with parquet format to delta format"
      ]
    },
    {
      "cell_type": "code",
      "execution_count": 59,
      "metadata": {
        "jupyter": {
          "outputs_hidden": false,
          "source_hidden": false
        },
        "nteract": {
          "transient": {
            "deleting": false
          }
        }
      },
      "outputs": [
        {
          "data": {
            "application/vnd.livy.statement-meta+json": {
              "execution_finish_time": "2022-09-26T12:05:56.528567Z",
              "execution_start_time": "2022-09-26T12:05:46.197556Z",
              "livy_statement_state": "available",
              "queued_time": "2022-09-26T12:05:44.2711974Z",
              "session_id": "1",
              "session_start_time": null,
              "spark_jobs": null,
              "spark_pool": "SparkPool",
              "state": "finished",
              "statement_id": 39
            },
            "text/plain": [
              "StatementMeta(SparkPool, 1, 39, Finished, Available)"
            ]
          },
          "metadata": {},
          "output_type": "display_data"
        }
      ],
      "source": [
        "from delta.tables import *\n",
        "\n",
        "adls2_account_name = stgAccountName\n",
        "adls2_container_name = \"datalake\"\n",
        "adls2_folderyear = dynamicyear\n",
        "adls2_foldermonth = dynamicmonth\n",
        "adls2_folderday = dynamicday\n",
        "adls2_folderhour = dynamichour\n",
        "\n",
        "base_path = 'abfss://{0}@{1}.dfs.core.windows.net/{2}/{3}/{4}/{5}'.format(adls2_container_name, adls2_account_name, adls2_folderyear, adls2_foldermonth, adls2_folderday, adls2_folderhour)\n",
        "deltaTable = DeltaTable.convertToDelta(spark, \"parquet.`\" + base_path + \"`\")"
      ]
    }
  ],
  "metadata": {
    "kernel_info": {
      "name": "synapse_pyspark"
    },
    "kernelspec": {
      "display_name": "Synapse PySpark",
      "language": "Python",
      "name": "synapse_pyspark"
    },
    "language_info": {
      "name": "python"
    },
    "save_output": true,
    "synapse_widget": {
      "state": {},
      "version": "0.1"
    }
  },
  "nbformat": 4,
  "nbformat_minor": 2
}
